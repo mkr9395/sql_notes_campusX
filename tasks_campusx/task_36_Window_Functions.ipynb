{
 "cells": [
  {
   "cell_type": "markdown",
   "metadata": {
    "id": "rp-6tPAYGMYz"
   },
   "source": [
    "## **Note: Try to avoid *GROUP BY* clause to solve the problems**\n",
    "\n",
    "For the problems use the *Health Insurance Claim* dataset. You can get the details as well as the dataset from [here](https://www.kaggle.com/datasets/thedevastator/insurance-claim-analysis-demographic-and-health)."
   ]
  },
  {
   "cell_type": "markdown",
   "metadata": {
    "id": "rp-6tPAYGMYz"
   },
   "source": [
    "### **Problem 1:** What are the top 5 patients who claimed the highest insurance amounts?"
   ]
  },
  {
   "cell_type": "raw",
   "metadata": {},
   "source": [
    "SELECT *,\n",
    "DENSE_RANK() OVER(ORDER BY claim DESC) as claim_rank\n",
    "FROM insurance\n",
    "LIMIT 5;"
   ]
  },
  {
   "cell_type": "markdown",
   "metadata": {
    "id": "rp-6tPAYGMYz"
   },
   "source": [
    "### **Problem 2:** What is the average insurance claimed by patients based on the number of children they have?"
   ]
  },
  {
   "cell_type": "raw",
   "metadata": {},
   "source": [
    "SELECT DISTINCT children,\n",
    "ROUND(AVG(claim) OVER(PARTITION BY children),2) as avg_claim\n",
    "FROM insurance;"
   ]
  },
  {
   "cell_type": "markdown",
   "metadata": {
    "id": "rp-6tPAYGMYz"
   },
   "source": [
    "### **Problem 3:** What is the highest and lowest claimed amount by patients in each region?"
   ]
  },
  {
   "cell_type": "raw",
   "metadata": {},
   "source": [
    "SELECT DISTINCT region,\n",
    "MAX(claim) OVER(PARTITION BY region) as max_claim_region,\n",
    "MIN(claim) OVER(Partition by region) as min_claim_region\n",
    "FROM insurance;"
   ]
  },
  {
   "cell_type": "markdown",
   "metadata": {
    "id": "rp-6tPAYGMYz"
   },
   "source": [
    "### **Problem 4:** What is the percentage of smokers in each age group?"
   ]
  },
  {
   "cell_type": "raw",
   "metadata": {},
   "source": [
    "SELECT t1.age,\n",
    "(smoker_yes/total_num)*100 as percent_smoker\n",
    "from (SELECT DISTINCT age,\n",
    "COUNT(smoker) OVER(PARTITION BY age) as smoker_yes\n",
    "from insurance\n",
    "WHERE smoker = 'Yes') t1\n",
    "JOIN (SELECT DISTINCT age,\n",
    "COUNT(age) OVER(PARTITION BY age) as total_num\n",
    "from insurance) t2\n",
    "ON t1.age=t2.age;"
   ]
  },
  {
   "cell_type": "markdown",
   "metadata": {
    "id": "rp-6tPAYGMYz"
   },
   "source": [
    "### **Problem 5:** What is the difference between the claimed amount of each patient and the first claimed amount of the first patient?"
   ]
  },
  {
   "cell_type": "raw",
   "metadata": {},
   "source": [
    "SELECT claim,\n",
    "ROUND(claim - FIRST_VALUE(claim) OVER(),2) as diff_claim\n",
    "from insurance;  \n"
   ]
  },
  {
   "cell_type": "markdown",
   "metadata": {
    "id": "rp-6tPAYGMYz"
   },
   "source": [
    "### **Problem 6:** For each patient, calculate the difference between their claimed amount and the average claimed amount of patients with the same number of children."
   ]
  },
  {
   "cell_type": "raw",
   "metadata": {},
   "source": [
    "SELECT *,\n",
    "ROUND(AVG(claim) OVER(PARTITION BY children),2) as avg_claim,\n",
    "ROUND(claim - AVG(claim) OVER(PARTITION BY children),2) as diff_claim\n",
    "FROM insurance;"
   ]
  },
  {
   "cell_type": "markdown",
   "metadata": {
    "id": "rp-6tPAYGMYz"
   },
   "source": [
    "### **Problem 7:** Show the patient with the highest BMI in each region and their respective rank."
   ]
  },
  {
   "cell_type": "raw",
   "metadata": {},
   "source": [
    "SELECT * FROM\n",
    "  (SELECT *,\n",
    "  DENSE_RANK() OVER(ORDER BY BMI DESC) as overall_rank,\n",
    "  DENSE_RANK() OVER(PARTITION BY region ORDER BY BMI DESC) as rank_bmi\n",
    "  FROM insurance) \n",
    "t\n",
    "WHERE t.rank_bmi=1;"
   ]
  },
  {
   "cell_type": "markdown",
   "metadata": {
    "id": "rp-6tPAYGMYz"
   },
   "source": [
    "### **<span class=\"burk\">Problem 8</span>:** Calculate the difference between the claimed amount of each patient and the claimed amount of the patient who has the highest BMI in their region."
   ]
  },
  {
   "cell_type": "raw",
   "metadata": {},
   "source": [
    "SELECt *,\n",
    "FIRST_VALUE(claim) OVER(PARTITION BY region ORDER BY bmi DESC) as highest_bmi_claim_region,\n",
    "claim - FIRST_VALUE(claim) OVER(PARTITION BY region ORDER BY bmi DESC) as diff\n",
    "from insurance;"
   ]
  },
  {
   "cell_type": "markdown",
   "metadata": {
    "id": "rp-6tPAYGMYz"
   },
   "source": [
    "### **Problem 9:** For each patient, calculate the difference in claim amount between patient with the highest claim amount with smoker status and within the same region and each patient with the same smoker status, within the that region. Return the result in descending order difference."
   ]
  },
  {
   "cell_type": "raw",
   "metadata": {},
   "source": [
    "SELECT *, \n",
    "MAX(claim) OVER(PARTITION BY smoker,region) as max_claim,\n",
    "ROUND((MAX(claim) OVER(PARTITION BY smoker,region))-claim,2) as diff_claim\n",
    "FROM insurance\n",
    "ORDER BY diff_claim DESC;"
   ]
  },
  {
   "cell_type": "markdown",
   "metadata": {
    "id": "rp-6tPAYGMYz"
   },
   "source": [
    "### **<span class=\"burk\">Problem 10</span>:** For each patient, find the maximum BMI value among their next three records (ordered by age)."
   ]
  },
  {
   "cell_type": "raw",
   "metadata": {},
   "source": [
    "SELECT bmi,age,\n",
    "MAX(bmi) OVER(ORDER BY age ROWS BETWEEN 1 FOLLOWING AND 3 FOLLOWING) as 3_follow_max_bmi\n",
    "FROM insurance;"
   ]
  },
  {
   "cell_type": "markdown",
   "metadata": {
    "id": "rp-6tPAYGMYz"
   },
   "source": [
    "### **<span class=\"burk\">Problem 11</span>:** For each patient, find the rolling average of the last 2 claims."
   ]
  },
  {
   "cell_type": "raw",
   "metadata": {},
   "source": [
    "SELECT *,\n",
    "AVG(claim) OVER(ROWS BETWEEN 2 PRECEDING AND 1 PRECEDING) as avg_claim\n",
    "FROM insurance;"
   ]
  },
  {
   "cell_type": "markdown",
   "metadata": {
    "id": "rp-6tPAYGMYz"
   },
   "source": [
    "### **Problem 12:** Find the first claimed insurance value for male and female patients, within each region order the data by patient age in ascending order, and only include patients who are non-diabetic and have a bmi value between 25 and 30."
   ]
  },
  {
   "cell_type": "raw",
   "metadata": {
    "id": "OHrwHkGWGNB_"
   },
   "source": [
    "SELECT * from\n",
    "  (SELECT *,\n",
    "  FIRST_VALUE(claim) OVER(PARTITION BY gender,region ORDER BY age) as first_value_sex_region,\n",
    "  ROW_NUMBER() OVER(PARTITION BY gender,region ORDER BY age) as row_num\n",
    "  FROM insurance\n",
    "  WHERE diabetic = 'No' AND bmi BETWEEN 25 AND 30)as \n",
    "  t\n",
    "  WHERE row_num = 1;"
   ]
  },
  {
   "cell_type": "code",
   "execution_count": null,
   "metadata": {
    "id": "F3smsFiqGvnw"
   },
   "outputs": [],
   "source": []
  }
 ],
 "metadata": {
  "colab": {
   "provenance": []
  },
  "kernelspec": {
   "display_name": "Python 3 (ipykernel)",
   "language": "python",
   "name": "python3"
  },
  "language_info": {
   "codemirror_mode": {
    "name": "ipython",
    "version": 3
   },
   "file_extension": ".py",
   "mimetype": "text/x-python",
   "name": "python",
   "nbconvert_exporter": "python",
   "pygments_lexer": "ipython3",
   "version": "3.9.13"
  }
 },
 "nbformat": 4,
 "nbformat_minor": 1
}
