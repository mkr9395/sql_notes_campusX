{
 "cells": [
  {
   "cell_type": "markdown",
   "metadata": {
    "id": "_GfKmtlR3Vcb"
   },
   "source": [
    "## Sleep Efficiency Dataset\n",
    "For questions 1-5, you can find the dataset and details about it from [here](https://www.kaggle.com/datasets/equilibriumm/sleep-efficiency).\n",
    "\n",
    "`ID`\n",
    "a unique identifier for each test subject\n",
    "\n",
    "`Age`\n",
    "age of the test subject\n",
    "\n",
    "`Gender`\n",
    "male or female\n",
    "\n",
    "`Bedtime`\n",
    "the time the test subject goes to bed each night\n",
    "\n",
    "`Wakeup time`\n",
    "the time the test subject wakes up each morning\n",
    "\n",
    "`Sleep duration`\n",
    "the total amount of time the test subject slept (in hours)\n",
    "\n",
    "`Sleep efficiency`\n",
    "a measure of the proportion of time in bed spent asleep\n",
    "\n",
    "`REM sleep percentage`\n",
    "the percentage of total sleep time spent in REM sleep\n",
    "\n",
    "`Deep sleep percentage`\n",
    "the percentage of total sleep time spent in deep sleep\n",
    "\n",
    "`Light sleep percentage`\n",
    "the percentage of total sleep time spent in light sleep\n",
    "\n",
    "`Awakenings`\n",
    "the number of times the test subject wakes up during the night\n",
    "\n",
    "`Caffeine consumption`\n",
    "the amount of caffeine consumed in the 24 hours prior to bedtime (in mg)\n",
    "\n",
    "`Alcohol consumption`\n",
    "the amount of alcohol consumed in the 24 hours prior to bedtime (in oz)\n",
    "\n",
    "`Smoking status`\n",
    "whether or not the test subject smokes\n",
    "\n",
    "`Exercise frequency`\n",
    "the number of times the test subject exercises each week\n",
    "\n"
   ]
  },
  {
   "cell_type": "markdown",
   "metadata": {
    "id": "AH94HTr93eW6"
   },
   "source": [
    "### **`Problem 1:`**\n",
    "\n",
    "**The question is:**\n",
    "\n",
    "Find out the average sleep duration of top 15 male candidates who's sleep duration are equal to 7.5 or greater than 7.5."
   ]
  },
  {
   "cell_type": "raw",
   "metadata": {},
   "source": [
    "Select \n",
    "AVG(sleep_duration) from sleep\n",
    "WHERE sleep_duration >=7.5 AND gender = 'Male'\n",
    "ORDER BY sleep_duration DESC\n",
    "LIMIT 15;"
   ]
  },
  {
   "cell_type": "markdown",
   "metadata": {
    "id": "AH94HTr93eW6"
   },
   "source": [
    "### `Problem 2:` Show avg deep sleep time for both gender. Round result at 2 decimal places.\n",
    "\n",
    "Note: sleep time and deep sleep percentage will give you, deep sleep time."
   ]
  },
  {
   "cell_type": "raw",
   "metadata": {},
   "source": [
    "SELECT gender, \n",
    "ROUND(AVG(sleep_duration*0.01*deep_sleep_percentage),2) as avg_sleep\n",
    "from sleep\n",
    "GROUP BY gender;"
   ]
  },
  {
   "cell_type": "markdown",
   "metadata": {
    "id": "AH94HTr93eW6"
   },
   "source": [
    "### **`Problem 3:`**\n",
    "\n",
    "\n",
    "**The question is:**\n",
    "\n",
    "Find out the lowest 10th to 30th light sleep percentage records where deep sleep percentage values are between 25 to 45. Display age, light sleep percentage and deep sleep percentage columns only."
   ]
  },
  {
   "cell_type": "raw",
   "metadata": {},
   "source": [
    "SELECT age, light_sleep_percentage,deep_sleep_percentage\n",
    "from sleep\n",
    "WHERE deep_sleep_percentage Between 25 AND 45\n",
    "ORDER by light_sleep_percentage\n",
    "LIMIT 10,20;"
   ]
  },
  {
   "cell_type": "markdown",
   "metadata": {
    "id": "AH94HTr93eW6"
   },
   "source": [
    "### `Problem 4:` Group by on exercise frequency and smoking status and show average deep sleep time, average light sleep time and avg rem sleep time.\n",
    "\n",
    "* Note the differences in deep sleep time for smoking and non smoking status"
   ]
  },
  {
   "cell_type": "raw",
   "metadata": {},
   "source": [
    "SELECT \n",
    "exercise_frequency,\n",
    "smoking_status,\n",
    "AVG(deep_sleep_percentage) as avg_deep_sleep,\n",
    "AVG(light_sleep_percentage) as avg_light_sleep,\n",
    "AVG(rem_sleep_percentage) as avg_rem_sleep\n",
    "from sleep\n",
    "GROUP BY exercise_frequency,smoking_status;"
   ]
  },
  {
   "cell_type": "markdown",
   "metadata": {
    "id": "AH94HTr93eW6"
   },
   "source": [
    "### `Problem 5:` Group By on Awekning and show AVG Caffeine consumption, AVG Deep sleep time and AVG Alcohol consumption only for people who do exercise atleast 3 days a week. Show result in descending order awekenings"
   ]
  },
  {
   "cell_type": "raw",
   "metadata": {
    "id": "Eq7CQ4K03vPC"
   },
   "source": [
    "SELECT awakenings,\n",
    "ROUND(AVG(caffeine_consumption),2) as avg_coffee,\n",
    "ROUND(AVG(sleep_duration*0.01*deep_sleep_percentage),2) as avg_deep_sleep,\n",
    "ROUND(AVG(alcohol_consumption),2) as avg_alcohol\n",
    "FROM sleep\n",
    "WHERE exercise_frequency >2\n",
    "GROUP BY awakenings\n",
    "ORDER BY awakenings DESC;"
   ]
  },
  {
   "cell_type": "markdown",
   "metadata": {
    "id": "Pn5NOwhR3wgZ"
   },
   "source": [
    "## Power Generation Dataset\n",
    "\n",
    "For this question, you can find the details as well as the dataset from [here](https://www.kaggle.com/datasets/arvindnagaonkar/power-generation-data)."
   ]
  },
  {
   "cell_type": "markdown",
   "metadata": {
    "id": "1_K7ZXQG3zGJ"
   },
   "source": [
    "### **`Problem 6:`**\n",
    "\n",
    "\n",
    "\n",
    "**The question is:**\n",
    "\n",
    "Display those power stations which have average 'Monitored Cap.(MW)' (display the values) between 1000 and 2000 and the number of occurance of the power stations (also display these values) are\n",
    "greater than 200. Also sort the result in ascending order.\n",
    "\n",
    "\n"
   ]
  },
  {
   "cell_type": "raw",
   "metadata": {},
   "source": [
    "SELECT\n",
    "`Power Station`,\n",
    "COUNT(*) as occurence,\n",
    "AVG(`Monitored Cap.(MW)`) as avg_capacity\n",
    "FROM task_campusx.power\n",
    "GROUP BY `Power Station`\n",
    "HAVING occurence > 200 AND (avg_capacity BETWEEN  1000 AND 2000)\n",
    "ORDER BY avg_capacity;"
   ]
  },
  {
   "cell_type": "markdown",
   "metadata": {
    "id": "S4vjoWDu36Br"
   },
   "source": [
    "## Avg Cost of Undergrad College by State(USA) Dataset-\n",
    "For this question, you can find the detailed dataset from [here](https://www.kaggle.com/datasets/kfoster150/avg-cost-of-undergrad-college-by-state).\n",
    "\n",
    "`Year`\n",
    "The Digest year this information comes from\n",
    "\n",
    "`State`\n",
    "The U.S. State\n",
    "\n",
    "`Type`\n",
    "Type of University, Private or Public and in-state or out-of-state. Private colleges charge the same for in/out of state\n",
    "\n",
    "`Length`\n",
    "Whether the college mainly offers 2-year (Associates) or 4-year (Bachelors) programs\n",
    "\n",
    "`Expense`\n",
    "The Expense being described, tuition/fees or on-campus living expenses\n",
    "\n",
    "`Value`\n",
    "The average cost for this particular expense, in USD ($)"
   ]
  },
  {
   "cell_type": "markdown",
   "metadata": {
    "id": "VxlMC6yw3-B_"
   },
   "source": [
    "### **`Problem 7:`**\n",
    "\n",
    "\n",
    "\n",
    "**The question is:**\n",
    "\n",
    "Display top 10 lowest \"value\" State names of which the Year either belong to 2013 or 2017 or 2021 and type is 'Public In-State'. Also the number of occurance should be between 6 to 10. Display the average value upto 2 decimal places, state names and the occurance of the states."
   ]
  },
  {
   "cell_type": "raw",
   "metadata": {},
   "source": [
    "SELECT state,\n",
    "ROUND(AVG(numbers),2) as avg_value,\n",
    "COUNT(*) as frequency\n",
    "FROM college\n",
    "WHERE yearss IN (2013, 2017, 2021) AND typess = 'Public In-State'\n",
    "GROUP BY state\n",
    "HAVING frequency BETWEEN 6 AND 10\n",
    "ORDER BY avg_value ASC\n",
    "LIMIT 10;"
   ]
  },
  {
   "cell_type": "markdown",
   "metadata": {
    "id": "VxlMC6yw3-B_"
   },
   "source": [
    "### `Problem -8:` Best state in terms of low education cost (Tution Fees) in 'Public' type university."
   ]
  },
  {
   "cell_type": "raw",
   "metadata": {},
   "source": [
    "SELECT state,\n",
    "AVG(numbers) as avg_total_expense\n",
    "FROM college\n",
    "WHERE typess like '%Public%' AND expense LIKE '%Tuition%'\n",
    "GROUP BY state\n",
    "ORDER BY avg_total_expense\n",
    "LIMIT 1;"
   ]
  },
  {
   "cell_type": "markdown",
   "metadata": {
    "id": "VxlMC6yw3-B_"
   },
   "source": [
    "### `Problem 9:` 2nd Costliest state for Private education in year 2021. Consider, Tution and Room fee both."
   ]
  },
  {
   "cell_type": "raw",
   "metadata": {
    "id": "12CBSFog39VC"
   },
   "source": [
    "SELECT \n",
    "state,\n",
    "AVG(numbers)\n",
    "FROM college\n",
    "WHERE yearss = 2021 AND expense IN ('Fees/Tuition','Room/Board') AND typess like 'Private%'\n",
    "GROUP BY state\n",
    "ORDER BY AVG(numbers) DESC\n",
    "LIMIT 1,1"
   ]
  },
  {
   "cell_type": "markdown",
   "metadata": {
    "id": "-gWZEkBb4JpJ"
   },
   "source": [
    "### **`Problem 10:`**\n",
    "\n",
    "For this, you can find the dataset from [here]().\n",
    "\n",
    "**The question is:**\n",
    "\n",
    "Display total and average values of Discount_offered for all the combinations of 'Mode_of_Shipment' (display this feature) and 'Warehouse_block' (display this feature also) for all male ('M') and 'High' Product_importance. Also sort the values in descending order of Mode_of_Shipment and ascending order of Warehouse_block."
   ]
  },
  {
   "cell_type": "raw",
   "metadata": {},
   "source": [
    "SELECT\n",
    "Mode_of_Shipment,Warehouse_block,Gender,Product_importance,\n",
    "sum(Discount_offered) as total_discount,\n",
    "avg(Discount_offered) as avg_discount\n",
    "from shipping as s\n",
    "WHERE Gender = 'M' AND Product_importance = 'High'\n",
    "group by Mode_of_Shipment,Warehouse_block\n",
    "ORDER BY Mode_of_Shipment DESC, Warehouse_block ASC;"
   ]
  }
 ],
 "metadata": {
  "colab": {
   "provenance": []
  },
  "kernelspec": {
   "display_name": "Python 3 (ipykernel)",
   "language": "python",
   "name": "python3"
  },
  "language_info": {
   "codemirror_mode": {
    "name": "ipython",
    "version": 3
   },
   "file_extension": ".py",
   "mimetype": "text/x-python",
   "name": "python",
   "nbconvert_exporter": "python",
   "pygments_lexer": "ipython3",
   "version": "3.9.13"
  }
 },
 "nbformat": 4,
 "nbformat_minor": 1
}
