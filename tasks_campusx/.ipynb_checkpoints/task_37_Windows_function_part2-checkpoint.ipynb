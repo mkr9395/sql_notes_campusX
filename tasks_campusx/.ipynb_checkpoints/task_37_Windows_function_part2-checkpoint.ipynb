{
 "cells": [
  {
   "cell_type": "code",
   "execution_count": null,
   "metadata": {
    "id": "s-W3ohs8p3Oz"
   },
   "outputs": [],
   "source": []
  },
  {
   "cell_type": "markdown",
   "metadata": {
    "id": "KpqcB6Vhp9qf"
   },
   "source": [
    "## Problem 1-4 : NorthWinddatset https://relational.fit.cvut.cz/dataset/Northwind\n",
    "\n",
    "How to download the dataset\n",
    "\n",
    "To download the dataset you need to create connection in your mysql workbench\n",
    "\n",
    "The datasets are publicly available directly from MariaDB database.\n",
    "\n",
    "* Open your favourite MariaDB client (MySQL Workbench)\n",
    "Use following credentials:\n",
    "```\n",
    "    hostname: relational.fit.cvut.cz\n",
    "    port: 3306\n",
    "    username: guest\n",
    "    password: relational\n",
    "```\n",
    "Drive link: https://drive.google.com/drive/folders/1FMi6g1KDHbn17ikJSi7bE9-THywlxhdu?usp=sharing"
   ]
  },
  {
   "cell_type": "markdown",
   "metadata": {
    "id": "FOEHlsgeqAGT"
   },
   "source": [
    "### `Q-1`: Rank Employee in terms of revenue generation. Show employee id, first name, revenue, and rank"
   ]
  },
  {
   "cell_type": "raw",
   "metadata": {},
   "source": []
  },
  {
   "cell_type": "markdown",
   "metadata": {
    "id": "FOEHlsgeqAGT"
   },
   "source": [
    "### `Q-2`: Show All products cumulative sum of units sold each month."
   ]
  },
  {
   "cell_type": "raw",
   "metadata": {},
   "source": []
  },
  {
   "cell_type": "markdown",
   "metadata": {
    "id": "FOEHlsgeqAGT"
   },
   "source": [
    "### `Q-3`: Show Percentage of total revenue by each suppliers"
   ]
  },
  {
   "cell_type": "raw",
   "metadata": {},
   "source": []
  },
  {
   "cell_type": "markdown",
   "metadata": {
    "id": "FOEHlsgeqAGT"
   },
   "source": [
    "### `Q-4:` Show Percentage of total orders by each suppliers"
   ]
  },
  {
   "cell_type": "raw",
   "metadata": {},
   "source": []
  },
  {
   "cell_type": "markdown",
   "metadata": {
    "id": "FOEHlsgeqAGT"
   },
   "source": [
    "### `Q-5`:Show All Products Year Wise report of totalQuantity sold, percentage change from last year."
   ]
  },
  {
   "cell_type": "raw",
   "metadata": {},
   "source": []
  },
  {
   "cell_type": "markdown",
   "metadata": {
    "id": "nWELr3W3qN9Q"
   },
   "source": [
    "## Problem 6 - 15\n",
    "\n",
    "For the next problems, you can get the dataset as well as the details [here](https://www.kaggle.com/datasets/thedevastator/drug-performance-evaluation?select=Drug_clean.csv) (Use the *cleaned* csv file)."
   ]
  },
  {
   "cell_type": "markdown",
   "metadata": {
    "id": "wtiSQiILqQtd"
   },
   "source": [
    "### **`Problem-6:`** For each condition, what is the average satisfaction level of drugs that are \"On Label\" vs \"Off Label\"?"
   ]
  },
  {
   "cell_type": "raw",
   "metadata": {},
   "source": []
  },
  {
   "cell_type": "markdown",
   "metadata": {
    "id": "wtiSQiILqQtd"
   },
   "source": [
    "### **`Problem-7:`** For each drug type (RX, OTC, RX/OTC), what is the average ease of use and satisfaction level of drugs with a price above the median for their type?"
   ]
  },
  {
   "cell_type": "raw",
   "metadata": {},
   "source": []
  },
  {
   "cell_type": "markdown",
   "metadata": {
    "id": "wtiSQiILqQtd"
   },
   "source": [
    "### **`Problem 8:`** What is the cumulative distribution of EaseOfUse ratings for each drug type (RX, OTC, RX/OTC)? Show the results in descending order by drug type and cumulative distribution. (Use the built-in method and the manual method by calculating on your own. For the manual method, use the \"ROWS BETWEEN UNBOUNDED PRECEDING AND CURRENT ROW\" and see if you get the same results as the built-in method.)"
   ]
  },
  {
   "cell_type": "raw",
   "metadata": {},
   "source": []
  },
  {
   "cell_type": "markdown",
   "metadata": {
    "id": "wtiSQiILqQtd"
   },
   "source": [
    "### **`Problem 9:`** What is the median satisfaction level for each medical condition? Show the results in descending order by median satisfaction level. (Don't repeat the same rows of your result.)"
   ]
  },
  {
   "cell_type": "raw",
   "metadata": {},
   "source": []
  },
  {
   "cell_type": "markdown",
   "metadata": {
    "id": "wtiSQiILqQtd"
   },
   "source": [
    "### **`Problem 10:`** What is the running average of the price of drugs for each medical condition? Show the results in ascending order by medical condition and drug name."
   ]
  },
  {
   "cell_type": "raw",
   "metadata": {},
   "source": []
  },
  {
   "cell_type": "markdown",
   "metadata": {
    "id": "wtiSQiILqQtd"
   },
   "source": [
    "### **`Problem 11:`** What is the percentage change in the number of reviews for each drug between the previous row and the current row? Show the results in descending order by percentage change."
   ]
  },
  {
   "cell_type": "raw",
   "metadata": {},
   "source": []
  },
  {
   "cell_type": "markdown",
   "metadata": {
    "id": "wtiSQiILqQtd"
   },
   "source": [
    "### **`Problem 12:`** What is the percentage of total satisfaction level for each drug type (RX, OTC, RX/OTC)? Show the results in descending order by drug type and percentage of total satisfaction."
   ]
  },
  {
   "cell_type": "raw",
   "metadata": {},
   "source": []
  },
  {
   "cell_type": "markdown",
   "metadata": {
    "id": "wtiSQiILqQtd"
   },
   "source": [
    "### **`Problem 13:`** What is the cumulative sum of effective ratings for each medical condition and drug form combination? Show the results in ascending order by medical condition, drug form and the name of the drug."
   ]
  },
  {
   "cell_type": "raw",
   "metadata": {},
   "source": []
  },
  {
   "cell_type": "markdown",
   "metadata": {
    "id": "wtiSQiILqQtd"
   },
   "source": [
    "### **`Problem-14:`** What is the rank of the average ease of use for each drug type (RX, OTC, RX/OTC)? Show the results in descending order by rank and drug type."
   ]
  },
  {
   "cell_type": "raw",
   "metadata": {},
   "source": []
  },
  {
   "cell_type": "markdown",
   "metadata": {
    "id": "wtiSQiILqQtd"
   },
   "source": [
    "### **`Problem-15:`** For each condition, what is the average effectiveness of the top 3 most reviewed drugs?"
   ]
  },
  {
   "cell_type": "raw",
   "metadata": {
    "id": "AZH1zzayp_Tv"
   },
   "source": []
  }
 ],
 "metadata": {
  "colab": {
   "provenance": []
  },
  "kernelspec": {
   "display_name": "Python 3 (ipykernel)",
   "language": "python",
   "name": "python3"
  },
  "language_info": {
   "codemirror_mode": {
    "name": "ipython",
    "version": 3
   },
   "file_extension": ".py",
   "mimetype": "text/x-python",
   "name": "python",
   "nbconvert_exporter": "python",
   "pygments_lexer": "ipython3",
   "version": "3.9.13"
  }
 },
 "nbformat": 4,
 "nbformat_minor": 1
}
