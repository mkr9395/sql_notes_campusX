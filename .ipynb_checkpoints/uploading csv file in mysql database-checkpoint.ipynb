{
 "cells": [
  {
   "cell_type": "markdown",
   "id": "6e3ded3d",
   "metadata": {},
   "source": [
    "## Uploading csv file to mysql database : "
   ]
  },
  {
   "cell_type": "markdown",
   "id": "7fb00bd6",
   "metadata": {},
   "source": [
    "https://www.projectpro.io/recipes/connect-mysql-python-and-import-csv-file-into-mysql-and-create-table"
   ]
  },
  {
   "cell_type": "code",
   "execution_count": 2,
   "id": "56a7f522",
   "metadata": {
    "ExecuteTime": {
     "end_time": "2023-08-11T10:14:05.520489Z",
     "start_time": "2023-08-11T10:14:05.482040Z"
    }
   },
   "outputs": [
    {
     "ename": "ModuleNotFoundError",
     "evalue": "No module named 'mysql'",
     "output_type": "error",
     "traceback": [
      "\u001b[1;31m---------------------------------------------------------------------------\u001b[0m",
      "\u001b[1;31mModuleNotFoundError\u001b[0m                       Traceback (most recent call last)",
      "Cell \u001b[1;32mIn[2], line 1\u001b[0m\n\u001b[1;32m----> 1\u001b[0m \u001b[38;5;28;01mimport\u001b[39;00m \u001b[38;5;21;01mmysql\u001b[39;00m\u001b[38;5;21;01m.\u001b[39;00m\u001b[38;5;21;01mconnector\u001b[39;00m \u001b[38;5;28;01mas\u001b[39;00m \u001b[38;5;21;01mc\u001b[39;00m\n",
      "\u001b[1;31mModuleNotFoundError\u001b[0m: No module named 'mysql'"
     ]
    }
   ],
   "source": [
    "import mysql.connector as c"
   ]
  },
  {
   "cell_type": "code",
   "execution_count": 2,
   "id": "910ad3fa",
   "metadata": {
    "ExecuteTime": {
     "end_time": "2023-08-09T19:59:16.165381Z",
     "start_time": "2023-08-09T19:59:16.071708Z"
    }
   },
   "outputs": [],
   "source": [
    "con = c.connect(host=\"localhost\",user=\"root\",password=\"mohit@123\",database=\"campusx\")"
   ]
  },
  {
   "cell_type": "code",
   "execution_count": 3,
   "id": "9a467ffb",
   "metadata": {
    "ExecuteTime": {
     "end_time": "2023-08-09T19:59:16.821846Z",
     "start_time": "2023-08-09T19:59:16.807054Z"
    }
   },
   "outputs": [
    {
     "name": "stdout",
     "output_type": "stream",
     "text": [
      "succesfully connected\n"
     ]
    }
   ],
   "source": [
    "if con.is_connected():\n",
    "    print(\"succesfully connected\")"
   ]
  },
  {
   "cell_type": "markdown",
   "id": "c9b225c0",
   "metadata": {},
   "source": [
    "---\n",
    "---\n",
    "---"
   ]
  },
  {
   "cell_type": "code",
   "execution_count": null,
   "id": "566ac410",
   "metadata": {},
   "outputs": [],
   "source": [
    "import pandas as pd\n",
    "\n",
    "dataset_path = r\"D:\\SQL\\data\\datasets-session-37\\ipl.csv\"\n",
    "ipl = pd.read_csv(dataset_path)"
   ]
  },
  {
   "cell_type": "code",
   "execution_count": null,
   "id": "462d0d61",
   "metadata": {},
   "outputs": [],
   "source": [
    "ipl.info()"
   ]
  },
  {
   "cell_type": "code",
   "execution_count": null,
   "id": "4899aa1d",
   "metadata": {},
   "outputs": [],
   "source": [
    "ipl.columns"
   ]
  },
  {
   "cell_type": "code",
   "execution_count": null,
   "id": "dad3fd52",
   "metadata": {},
   "outputs": [],
   "source": [
    "# renaming - as _\n",
    "ipl.columns=['ID', 'innings', 'overs', 'ballnumber', 'batter', 'bowler',\n",
    "       'non_striker', 'extra_type', 'batsman_run', 'extras_run', 'total_run',\n",
    "       'non_boundary', 'isWicketDelivery', 'player_out', 'kind',\n",
    "       'fielders_involved', 'BattingTeam']"
   ]
  },
  {
   "cell_type": "code",
   "execution_count": null,
   "id": "fe76f24f",
   "metadata": {},
   "outputs": [],
   "source": [
    "import mysql"
   ]
  },
  {
   "cell_type": "code",
   "execution_count": null,
   "id": "07e52b77",
   "metadata": {},
   "outputs": [],
   "source": [
    "import mysql.connector as msql"
   ]
  },
  {
   "cell_type": "code",
   "execution_count": null,
   "id": "df1e377f",
   "metadata": {},
   "outputs": [],
   "source": [
    "from mysql.connector import Error\n",
    "import mysql.connector\n",
    "\n",
    "try:\n",
    "    conn = mysql.connector.connect(host='localhost', database='campusx', user='root', password='mohit@123')\n",
    "    if conn.is_connected():\n",
    "        cursor = conn.cursor()\n",
    "        cursor.execute(\"select database();\")\n",
    "        record = cursor.fetchone()\n",
    "        print(\"You're connected to database: \", record)\n",
    "        cursor.execute('DROP TABLE IF EXISTS ipl;')\n",
    "        print('Creating table....')\n",
    "        \n",
    "        create_table_query = \"\"\"\n",
    "        CREATE TABLE ipl (\n",
    "            ID INT NOT NULL,\n",
    "            innings INT NOT NULL,\n",
    "            overs INT NOT NULL,\n",
    "            ballnumber INT NOT NULL,\n",
    "            batter VARCHAR(255) NOT NULL,\n",
    "            bowler VARCHAR(255) NOT NULL,\n",
    "            non_striker VARCHAR(255) NOT NULL,\n",
    "            extra_type VARCHAR(255),\n",
    "            batsman_run INT NOT NULL,\n",
    "            extras_run INT NOT NULL,\n",
    "            total_run INT NOT NULL,\n",
    "            non_boundary INT NOT NULL,\n",
    "            isWicketDelivery INT NOT NULL,\n",
    "            player_out VARCHAR(255),\n",
    "            kind VARCHAR(255),\n",
    "            fielders_involved VARCHAR(255),\n",
    "            BattingTeam VARCHAR(255) NOT NULL\n",
    "        );\n",
    "        \"\"\"\n",
    "        cursor.execute(create_table_query)\n",
    "        print(\"Table is created....\")\n",
    "        \n",
    "        # Replace 'ipl' with your actual DataFrame\n",
    "        for i, row in ipl.iterrows():\n",
    "            insert_query = \"\"\"\n",
    "            INSERT INTO ipl (ID, innings, overs, ballnumber, batter, bowler, non_striker, extra_type, batsman_run, extras_run, total_run, non_boundary, isWicketDelivery, player_out, kind, fielders_involved, BattingTeam)\n",
    "            VALUES (%s, %s, %s, %s, %s, %s, %s, %s, %s, %s, %s, %s, %s, %s, %s, %s, %s);\n",
    "            \"\"\"\n",
    "            cursor.execute(insert_query, tuple(row))\n",
    "            print(\"Record inserted\")\n",
    "            conn.commit()\n",
    "\n",
    "except Error as e:\n",
    "    print(\"Error while connecting to MySQL\", e)\n",
    "finally:\n",
    "    if conn.is_connected():\n",
    "        cursor.close()\n",
    "        conn.close()\n"
   ]
  },
  {
   "cell_type": "code",
   "execution_count": null,
   "id": "61637190",
   "metadata": {},
   "outputs": [],
   "source": []
  },
  {
   "cell_type": "code",
   "execution_count": null,
   "id": "007c8095",
   "metadata": {},
   "outputs": [],
   "source": []
  },
  {
   "cell_type": "code",
   "execution_count": null,
   "id": "05452f81",
   "metadata": {},
   "outputs": [],
   "source": []
  },
  {
   "cell_type": "code",
   "execution_count": null,
   "id": "e0d872e9",
   "metadata": {},
   "outputs": [],
   "source": []
  },
  {
   "cell_type": "code",
   "execution_count": null,
   "id": "0e4c4813",
   "metadata": {},
   "outputs": [],
   "source": [
    "import mysql"
   ]
  }
 ],
 "metadata": {
  "kernelspec": {
   "display_name": "tf",
   "language": "python",
   "name": "tf"
  },
  "language_info": {
   "codemirror_mode": {
    "name": "ipython",
    "version": 3
   },
   "file_extension": ".py",
   "mimetype": "text/x-python",
   "name": "python",
   "nbconvert_exporter": "python",
   "pygments_lexer": "ipython3",
   "version": "3.10.11"
  }
 },
 "nbformat": 4,
 "nbformat_minor": 5
}
