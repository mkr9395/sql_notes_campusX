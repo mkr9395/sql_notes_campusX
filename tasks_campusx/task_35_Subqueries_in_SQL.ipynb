{
 "cells": [
  {
   "cell_type": "markdown",
   "metadata": {
    "id": "NLmTBdPfOKCI"
   },
   "source": [
    "# SQL SubQuery\n",
    "## How to load the dataset(s) to SQL?\n",
    "Using Python, you can load the large datasets to MySQL database very easily. For that follow the below steps.\n",
    "\n",
    "- First create a database in your local machine server.\n",
    "\n",
    "```sql\n",
    "CREATE DATABASE <database_name>\n",
    "```\n",
    "\n",
    "- Next, use Python to load the database\n",
    "\n",
    "```python\n",
    "import pandas as pd\n",
    "from sqlalchemy import create_engine\n",
    "\n",
    "df = pd.read_csv(\"file/path/to/the/database.csv\")\n",
    "\n",
    "engine = create_engine(\"mysql+pymysql://<db_username>:<db_password>@<hostname>/<database_name>\")\n",
    "df.to_sql(\"<table_name>\", con=engine)\n",
    "```\n",
    "\n",
    "## Problems 1-6\n",
    "\n",
    "For problems 1 to 6, use the Olympic dataset. You can get that from [here](https://drive.google.com/file/d/1EGIRBkbQGByJPvCqDtxtTnXv93oGunFp/view?usp=share_link).\n",
    "\n",
    "**Column description:**\n",
    "1. ID -> ID of every records to our dataset. It has integer datatype.\n",
    "2. Name -> Name of the athletes.\n",
    "3. Sex -> Gender of the athletes.\n",
    "4. Height -> Height of the athletes\n",
    "5. Weight -> Weight of the athletes\n",
    "6. NOC -> In which country, the athletes belong to. This is actually the country code.\n",
    "7. Year -> In which year, the athlete has participated\n",
    "8. Sport -> What is the sport name in which the athlete participated.\n",
    "9. Event -> Event name of the sport\n",
    "10. Medal -> Which medal the athlege got. If the athlete did not get any medal then this cell is blank.\n",
    "11. country -> The name of the country."
   ]
  },
  {
   "cell_type": "markdown",
   "metadata": {
    "id": "slnSOsPQOMFm"
   },
   "source": [
    "### Problem 1\n",
    "\n",
    "Display the names of athletes who won a gold medal in the 2008 Olympics and whose height is greater than the average height of all athletes in the 2008 Olympics."
   ]
  },
  {
   "cell_type": "raw",
   "metadata": {},
   "source": [
    "SELECT `Name`,Height\n",
    "FROM olympics as o1\n",
    "WHERE (Medal = 'Gold') AND (`Year`=2008) \n",
    "AND (Height > (SELECT AVG(Height) from olympics o2 WHERE `Year`=2008)); "
   ]
  },
  {
   "cell_type": "markdown",
   "metadata": {
    "id": "slnSOsPQOMFm"
   },
   "source": [
    "### Problem 2\n",
    "\n",
    "Display the names of athletes who won a medal in the sport of basketball in the 2016 Olympics and whose weight is less than the average weight of all athletes who won a medal in the 2016 Olympics."
   ]
  },
  {
   "cell_type": "raw",
   "metadata": {},
   "source": [
    "SELECT `Name`,Sport,Medal,`Year`,Weight\n",
    "FROM olympics as o1\n",
    "WHERE (Sport='BasketBall') AND (Medal IS NOT NULL) AND (`Year`=2016)\n",
    "AND (Weight < (SELECT AVG(Weight) from olympics o2 WHERE (`Year`=2016) AND (Medal IS NOT NULL))); "
   ]
  },
  {
   "cell_type": "markdown",
   "metadata": {
    "id": "slnSOsPQOMFm"
   },
   "source": [
    "### Problem 3\n",
    "\n",
    "Display the names of all athletes who have won a medal in the sport of swimming in both the 2008 and 2016 Olympics."
   ]
  },
  {
   "cell_type": "raw",
   "metadata": {},
   "source": [
    "SELECT \n",
    "`Name`,Medal,`Year`,Sport\n",
    "FROM olympics\n",
    "WHERE Sport = 'Swimming' \n",
    "AND `Year` in (2008,2016) \n",
    "AND (Medal IS NOT NULL);"
   ]
  },
  {
   "cell_type": "markdown",
   "metadata": {
    "id": "slnSOsPQOMFm"
   },
   "source": [
    "### Problem 4\n",
    "\n",
    "Display the names of all countries that have won more than 50 medals in a single year."
   ]
  },
  {
   "cell_type": "raw",
   "metadata": {},
   "source": [
    "SELECT \n",
    "country,`Year`,COUNT(*)\n",
    "FROM olympics\n",
    "WHERE Medal IS NOT NULL\n",
    "GROUP BY country,`Year`\n",
    "HAVING COUNT(*)>50\n",
    "ORDER BY Year"
   ]
  },
  {
   "cell_type": "markdown",
   "metadata": {
    "id": "slnSOsPQOMFm"
   },
   "source": [
    "### Problem 5\n",
    "\n",
    "Display the names of all athletes who have won medals in more than one sport in the same year."
   ]
  },
  {
   "cell_type": "raw",
   "metadata": {},
   "source": [
    "SELECT \n",
    "`Name`,Year,\n",
    "COUNT(DISTINCT(Sport)) as no_of_sport\n",
    "FROM olympics\n",
    "WHERE Medal IS NOT NULL\n",
    "GROUP BY `Name`,`Year`\n",
    "HAVING no_of_sport>1;"
   ]
  },
  {
   "cell_type": "markdown",
   "metadata": {
    "id": "slnSOsPQOMFm"
   },
   "source": [
    "### Problem 6\n",
    "\n",
    "What is the average weight difference between male and female athletes in the Olympics who have won a medal in the same event?"
   ]
  },
  {
   "cell_type": "code",
   "execution_count": null,
   "metadata": {},
   "outputs": [],
   "source": []
  },
  {
   "cell_type": "code",
   "execution_count": null,
   "metadata": {},
   "outputs": [],
   "source": []
  },
  {
   "cell_type": "code",
   "execution_count": null,
   "metadata": {},
   "outputs": [],
   "source": []
  },
  {
   "cell_type": "code",
   "execution_count": null,
   "metadata": {},
   "outputs": [],
   "source": []
  },
  {
   "cell_type": "code",
   "execution_count": null,
   "metadata": {},
   "outputs": [],
   "source": []
  },
  {
   "cell_type": "code",
   "execution_count": null,
   "metadata": {},
   "outputs": [],
   "source": []
  },
  {
   "cell_type": "raw",
   "metadata": {
    "id": "aFr6SMoAOLJ2"
   },
   "source": []
  },
  {
   "cell_type": "markdown",
   "metadata": {
    "id": "9RFThGnIOYec"
   },
   "source": [
    "## Problem 7 - 10\n",
    "\n",
    "Use the health insurance dataset. You can get the dataset as well as the description of the dataset [here](https://www.kaggle.com/datasets/thedevastator/insurance-claim-analysis-demographic-and-health)."
   ]
  },
  {
   "cell_type": "markdown",
   "metadata": {
    "id": "WM6f8f9eOl_t"
   },
   "source": [
    "### Problem 7\n",
    "\n",
    "How many patients have claimed more than the average claim amount for patients who are smokers and have at least one child, and belong to the southeast region?"
   ]
  },
  {
   "cell_type": "raw",
   "metadata": {},
   "source": [
    "SELECT \n",
    "COUNT(*)\n",
    "FROM insurance as i1\n",
    "WHERE claim > (SELECT AVG(claim) from insurance as i2\n",
    "WHERE smoker = 'Yes' AND children>0 AND region = 'southeast');"
   ]
  },
  {
   "cell_type": "markdown",
   "metadata": {
    "id": "WM6f8f9eOl_t"
   },
   "source": [
    "### Problem 8\n",
    "\n",
    "How many patients have claimed more than the average claim amount for patients who are not smokers and have a BMI greater than the average BMI for patients who have at least one child?"
   ]
  },
  {
   "cell_type": "raw",
   "metadata": {},
   "source": [
    "SELECT \n",
    "COUNT(*)\n",
    "FROM insurance as i1\n",
    "WHERE i1.claim>(SELECT AVG(i2.claim) from insurance as i2 WHERE i2.smoker = 'No'\n",
    "AND i2.bmi > (SELECT AVG(i3.bmi) from insurance as i3 WHERE i3.children>=1));"
   ]
  },
  {
   "cell_type": "markdown",
   "metadata": {
    "id": "WM6f8f9eOl_t"
   },
   "source": [
    "### Problem 9\n",
    "\n",
    "How many patients have claimed more than the average claim amount for patients who have a BMI greater than the average BMI for patients who are diabetic, have at least one child, and are from the southwest region?"
   ]
  },
  {
   "cell_type": "raw",
   "metadata": {},
   "source": [
    "SELECT\n",
    "COUNT(*)\n",
    "FROM insurance as i1\n",
    "WHERE i1.claim > (SELECT AVG(i2.claim) from insurance as i2 \n",
    "WHERE i2.bmi > (SELECT AVG(i3.bmi) from insurance as i3 WHERE i3.diabetic = 'Yes' AND i3.children>0 AND i3.region = 'southwest'));"
   ]
  },
  {
   "cell_type": "markdown",
   "metadata": {},
   "source": [
    "## SELF JOIn"
   ]
  },
  {
   "cell_type": "markdown",
   "metadata": {
    "id": "WM6f8f9eOl_t"
   },
   "source": [
    "### Problem 10:\n",
    "\n",
    "What is the difference in the average claim amount between patients who are smokers and patients who are non-smokers, and have the same BMI and number of children?"
   ]
  },
  {
   "cell_type": "markdown",
   "metadata": {},
   "source": []
  },
  {
   "cell_type": "markdown",
   "metadata": {},
   "source": []
  },
  {
   "cell_type": "markdown",
   "metadata": {},
   "source": []
  },
  {
   "cell_type": "code",
   "execution_count": null,
   "metadata": {},
   "outputs": [],
   "source": []
  },
  {
   "cell_type": "code",
   "execution_count": null,
   "metadata": {},
   "outputs": [],
   "source": []
  },
  {
   "cell_type": "code",
   "execution_count": null,
   "metadata": {},
   "outputs": [],
   "source": []
  },
  {
   "cell_type": "raw",
   "metadata": {
    "id": "hKdiVL-iOjJV"
   },
   "source": []
  }
 ],
 "metadata": {
  "colab": {
   "provenance": []
  },
  "kernelspec": {
   "display_name": "Python 3 (ipykernel)",
   "language": "python",
   "name": "python3"
  },
  "language_info": {
   "codemirror_mode": {
    "name": "ipython",
    "version": 3
   },
   "file_extension": ".py",
   "mimetype": "text/x-python",
   "name": "python",
   "nbconvert_exporter": "python",
   "pygments_lexer": "ipython3",
   "version": "3.9.13"
  }
 },
 "nbformat": 4,
 "nbformat_minor": 1
}
