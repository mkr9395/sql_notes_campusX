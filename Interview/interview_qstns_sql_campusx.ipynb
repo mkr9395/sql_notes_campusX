{
 "cells": [
  {
   "cell_type": "markdown",
   "id": "3495545d",
   "metadata": {},
   "source": [
    "## 1. Database Server Vs Database Client"
   ]
  },
  {
   "cell_type": "markdown",
   "id": "e2442c5b",
   "metadata": {},
   "source": [
    "1. __Database Server :__ A database server is a software application that provides access\n",
    "to a database over a network. It manages and processes requests from multiple\n",
    "clients, and performs tasks such as managing user authentication, concurrency\n",
    "control, and transaction management. A database server is typically installed on a\n",
    "dedicated computer or server, and is responsible for storing, managing, and\n",
    "processing data.\n",
    "\n",
    "\n",
    "2. __Database Client :__ A database client is a software application that connects to a database server and sends requests for data or database operations. It is the front-end interface that allows users to interact with the database, and provides tools such as query editors, data visualization, and reporting.\n",
    "\n",
    "\n",
    "3. __Database :__ A database is a collection of related data that is organized and stored in\n",
    "a structured format. It is designed to efficiently store, retrieve, and manage large\n",
    "amounts of data. A database can include multiple tables, indexes, and other\n",
    "objects that are used to manage and manipulate data.\n",
    "\n",
    "\n",
    "4. __DBMS (Database Management System) :__ A DBMS is a software application that\n",
    "provides tools for creating, managing, and manipulating databases. It includes a\n",
    "variety of functions and features, such as data storage, data retrieval, data backup\n",
    "and recovery, user management, and security. The DBMS is responsible for\n",
    "managing the underlying database, and provides a mechanism for users to interact\n",
    "with the data."
   ]
  },
  {
   "cell_type": "markdown",
   "id": "b02fa1e6",
   "metadata": {},
   "source": [
    "## 2. What are Database Engines"
   ]
  },
  {
   "cell_type": "markdown",
   "id": "27aa4328",
   "metadata": {},
   "source": [
    "A database engine, also known as a database management system (DBMS) engine,\n",
    "is the software component of a DBMS that is responsible for managing the\n",
    "storage, organization, and retrieval of data in a database. It is the core component\n",
    "of a DBMS that provides the necessary tools and services for creating, modifying,\n",
    "and querying the database.\n",
    "\n",
    "\n",
    "A database engine typically includes several key components, such as a query\n",
    "optimizer, transaction manager, storage manager, and buffer manager. The query\n",
    "optimizer is responsible for optimizing SQL queries to retrieve data from the\n",
    "database efficiently, while the transaction manager ensures that multiple\n",
    "transactions are executed correctly and consistently. The storage manager handles\n",
    "the physical storage of the data on disk or in memory, and the buffer manager is\n",
    "responsible for managing the cache of data in memory to optimize query\n",
    "performance."
   ]
  },
  {
   "cell_type": "markdown",
   "id": "2a7a54f9",
   "metadata": {},
   "source": [
    "### Types of database engines:"
   ]
  },
  {
   "cell_type": "markdown",
   "id": "c73e5f1c",
   "metadata": {},
   "source": [
    "1. **InnoDB**:\n",
    "   InnoDB is the default and most widely used storage engine in MySQL. It provides ACID (Atomicity, Consistency, Isolation, Durability) compliance and supports features like transactions, foreign keys, and row-level locking. It's a good choice for applications requiring high reliability, concurrency, and data integrity.\n",
    "\n",
    "\n",
    "2. **MyISAM**:\n",
    "   MyISAM is another storage engine that was widely used in older versions of MySQL. It offers high performance for read-heavy workloads but lacks support for transactions and foreign keys. MyISAM tables are more suitable for scenarios where data is mostly read and write operations are infrequent.\n",
    "\n",
    "\n",
    "3. **MEMORY (HEAP)**:\n",
    "   The MEMORY storage engine, also known as HEAP, stores data in memory, which makes it extremely fast for read and write operations. However, it's not suitable for large datasets or persistent storage, as data is lost when the MySQL server restarts. It's often used for caching and temporary data storage.\n",
    "\n",
    "\n",
    "4. **Archive**:\n",
    "   The Archive storage engine is optimized for storing large amounts of data with minimal storage space. It achieves this by compressing data, but it does not support indexing or updating individual rows. It's a good choice for historical or log data that is primarily inserted and rarely accessed.\n",
    "\n",
    "\n",
    "5. **NDB (Cluster)**:\n",
    "   The NDB storage engine, also known as MySQL Cluster, is designed for high availability and real-time performance. It's suitable for applications that require distributed, fault-tolerant storage with low-latency access. NDB uses shared-nothing architecture and can provide high scalability.\n",
    "\n",
    "\n",
    "6. **CSV**:\n",
    "   The CSV storage engine stores data in plain-text CSV (Comma-Separated Values) format. It's useful for importing and exporting data between different systems. However, it lacks features like indexing and is generally not suitable for complex queries or high-performance applications.\n",
    "\n",
    "\n",
    "7. **BLACKHOLE**:\n",
    "   The BLACKHOLE storage engine discards any data written to it, making it useful for replication setups where you want to replicate data changes to other servers without storing the actual data locally.\n",
    "\n",
    "\n",
    "8. **Federated**:\n",
    "   The Federated storage engine enables you to create tables that map to tables in remote MySQL servers. It's helpful for distributed systems and data integration, allowing you to query remote data seamlessly."
   ]
  },
  {
   "cell_type": "markdown",
   "id": "8e0a3d46",
   "metadata": {},
   "source": [
    "## 3. Components of DBMS"
   ]
  },
  {
   "cell_type": "markdown",
   "id": "6daa404b",
   "metadata": {},
   "source": [
    "1. __Database Engine__ \n",
    "\n",
    "\n",
    "2. __Security and Access Control -__ used to manage user permissions and access\n",
    "rights to the database.\n",
    "\n",
    "\n",
    "3. __Backup and Recovery -__ used to create backups of the database and recover the\n",
    "data in case of failures.\n",
    "\n",
    "\n",
    "4.  __Data Dictionary -__ used to store metadata about the database schema and data\n",
    "\n",
    "\n",
    "5. __User Interface -__ used to provide a graphical interface to interact with the\n",
    "database."
   ]
  },
  {
   "cell_type": "markdown",
   "id": "e38e4fc2",
   "metadata": {},
   "source": [
    "## 4. What is Collation"
   ]
  },
  {
   "cell_type": "markdown",
   "id": "0ea3b9e2",
   "metadata": {},
   "source": [
    "Collation refers to the rules and algorithms used to compare and sort\n",
    "characters in a database. It determines how character strings are\n",
    "compared and sorted, including the order of the characters, the\n",
    "treatment of case sensitivity, and the handling of accent marks or other\n",
    "special characters.\n",
    "\n",
    "\n",
    "Collation is important in database management because it affects the\n",
    "way queries are executed and results are returned. If the collation of a\n",
    "database is not set correctly, queries may return incorrect results or the\n",
    "database may not sort data properly."
   ]
  },
  {
   "cell_type": "markdown",
   "id": "5977e2cf",
   "metadata": {},
   "source": [
    "1. __Binary :__ Compares strings byte by byte. It is case-sensitive and accent-\n",
    "sensitive.\n",
    "\n",
    "\n",
    "\n",
    "2. __Case-insensitive :__ Compares strings without regard to case, but is\n",
    "accent-sensitive.\n",
    "\n",
    "\n",
    "3. __Accent-insensitive[\"café\" and \"cafe\"] :__ Compares strings without regard\n",
    "to accents, but is case-sensitive.\n",
    "\n",
    "\n",
    "4. __Case- and accent-insensitive :__ Compares strings without regard to case\n",
    "or accents.\n",
    "\n",
    "\n",
    "5. __Unicode :__ Supports Unicode character sets, and is available in multiple\n",
    "variants, such as utf8mb4_unicode_ci, utf8mb4_unicode_520_ci,\n",
    "utf8mb4_unicode_520_ci_ai, etc."
   ]
  },
  {
   "cell_type": "markdown",
   "id": "24183623",
   "metadata": {},
   "source": [
    "## 5. Diff between COUNT(*) and COUNT(col)"
   ]
  },
  {
   "cell_type": "markdown",
   "id": "8e618ec3",
   "metadata": {},
   "source": [
    "`COUNT(*)` counts all rows in a table, including those with NULL values, while `COUNT(col)` counts non-NULL values in the specified column, excluding NULLs."
   ]
  },
  {
   "cell_type": "markdown",
   "id": "2984f7f2",
   "metadata": {},
   "source": [
    "## 6. Dealing with NULL values"
   ]
  },
  {
   "cell_type": "markdown",
   "id": "472d2632",
   "metadata": {},
   "source": [
    "1. How it deals with NON NULL values\n",
    "\n",
    "\n",
    "2. Order By : Null values are counted as smallest values\n",
    "\n",
    "\n",
    "3. Group By - NULL values are treated as a separate group and are not included in any group that contains non-NULL values.\n",
    "\n",
    "\n",
    "4. Aggregate : When performing aggregate operations in MySQL, NULL values are treated differently depending on whether or not the GROUP BY clause is used.\n",
    "    - Without GROUP BY: \n",
    "        - If the aggregate function is SUM, AVG, MAX, MIN, or COUNT, NULL values are ignored and not included in the calculation.\n",
    "        - If the aggregate function is GROUP_CONCAT or CONCAT, NULL values are included in the result, but a NULL value is returned if all the values being concatenated are NULL.\n",
    "    - With GROUP BY:\n",
    "        - If the aggregate function is COUNT, NULL values are not included in the count for each group. However, if you use\n",
    "COUNT(\\*) instead of COUNT(column), then NULL values are included in the count.\n",
    "        - If the aggregate function is SUM, AVG, MAX, or MIN, NULL values are ignored and not included in the calculation for each group. If a group contains only NULL values, then the result for that group will be NULL.\n",
    "        - If the aggregate function is GROUP_CONCAT or CONCAT,NULL values are included in the result for each group, but a NULL value is returned if all the values being concatenated in a group are NULL.\n"
   ]
  },
  {
   "cell_type": "markdown",
   "id": "3f42d13e",
   "metadata": {},
   "source": [
    "## 7. DELETE Vs TRUNCATE"
   ]
  },
  {
   "cell_type": "markdown",
   "id": "78b5221f",
   "metadata": {},
   "source": [
    "- DELETE is a Data Manipulation Language (DML) statement, whereas TRUNCATE is a\n",
    "Data Definition Language (DDL) statement. This means that TRUNCATE requires\n",
    "the ALTER TABLE privilege, whereas DELETE requires the DELETE privilege on the\n",
    "table.\n",
    "\n",
    "\n",
    "- DELETE can be rolled back using a transaction log, which means that you can undo\n",
    "the changes made by DELETE if necessary. TRUNCATE, on the other hand, cannot\n",
    "be rolled back because it does not generate a transaction log.\n",
    "\n",
    "\n",
    "- DELETE is slower than TRUNCATE because it generates transaction log entries for\n",
    "each deleted row. If you need to delete a large number of rows, TRUNCATE may\n",
    "be a better option for performance reasons.\n",
    "\n",
    "\n",
    "- If you use foreign key constraints in your database, DELETE can cause integrity\n",
    "issues if you delete rows that are referenced by other tables. In this case, you\n",
    "should use TRUNCATE or disable the foreign key constraints before using DELETE."
   ]
  },
  {
   "cell_type": "markdown",
   "id": "33393595",
   "metadata": {},
   "source": [
    "## 8. Non-equi joins"
   ]
  },
  {
   "cell_type": "markdown",
   "id": "b27bafe7",
   "metadata": {},
   "source": [
    "In a non equi join, the join condition is based on operators other than\n",
    "equality. Specifically, the join condition can use operators such as\n",
    "greater than, less than, or not equal to, among others. Non equi joins\n",
    "are useful when you need to join tables on columns with similar but not\n",
    "identical data, or when you need to join tables based on a range of\n",
    "values rather than an exact match."
   ]
  },
  {
   "cell_type": "markdown",
   "id": "28f0f54a",
   "metadata": {},
   "source": [
    "## 9. Natural Joins"
   ]
  },
  {
   "cell_type": "markdown",
   "id": "8bc5c2c6",
   "metadata": {},
   "source": [
    "A natural join is a type of join in SQL where two tables are joined based\n",
    "on the columns with the same name and data type. In other words, it is\n",
    "a join where the join condition is implicitly based on the column names\n",
    "that exist in both tables, and it eliminates the duplicate columns from\n",
    "the result set."
   ]
  },
  {
   "cell_type": "markdown",
   "id": "425abb29",
   "metadata": {},
   "source": [
    "## 10. Anti Joins"
   ]
  },
  {
   "cell_type": "markdown",
   "id": "8701776a",
   "metadata": {},
   "source": [
    "An excluding join, also known as an anti-join, is a type of join operation in SQL that\n",
    "returns only the rows from one table that do not have any matching rows in\n",
    "another table. In other words, it returns the rows that are not included in the\n",
    "result set of an inner join between the two tables."
   ]
  },
  {
   "cell_type": "markdown",
   "id": "08f85a12",
   "metadata": {},
   "source": [
    "## 11. All and Any Operators"
   ]
  },
  {
   "cell_type": "markdown",
   "id": "1758db6d",
   "metadata": {},
   "source": []
  },
  {
   "cell_type": "markdown",
   "id": "decca442",
   "metadata": {},
   "source": [
    "## 12. Removing Duplicate Rows"
   ]
  },
  {
   "cell_type": "markdown",
   "id": "698078f3",
   "metadata": {},
   "source": [
    "1. Find duplicate values\n",
    "2. Delete duplicate"
   ]
  },
  {
   "cell_type": "markdown",
   "id": "6bb2218b",
   "metadata": {},
   "source": []
  },
  {
   "cell_type": "markdown",
   "id": "5335d588",
   "metadata": {},
   "source": []
  },
  {
   "cell_type": "markdown",
   "id": "b8848df8",
   "metadata": {},
   "source": []
  },
  {
   "cell_type": "markdown",
   "id": "5f33d872",
   "metadata": {},
   "source": []
  },
  {
   "cell_type": "markdown",
   "id": "b8ebccff",
   "metadata": {},
   "source": []
  },
  {
   "cell_type": "markdown",
   "id": "a714f668",
   "metadata": {},
   "source": []
  },
  {
   "cell_type": "markdown",
   "id": "210fe7af",
   "metadata": {},
   "source": []
  },
  {
   "cell_type": "markdown",
   "id": "a76e52cd",
   "metadata": {},
   "source": []
  },
  {
   "cell_type": "markdown",
   "id": "68f6bbac",
   "metadata": {},
   "source": []
  },
  {
   "cell_type": "markdown",
   "id": "e2d43b95",
   "metadata": {},
   "source": []
  },
  {
   "cell_type": "markdown",
   "id": "fd9ccaf9",
   "metadata": {},
   "source": []
  },
  {
   "cell_type": "markdown",
   "id": "2016e861",
   "metadata": {},
   "source": []
  },
  {
   "cell_type": "markdown",
   "id": "cf06546e",
   "metadata": {},
   "source": []
  },
  {
   "cell_type": "markdown",
   "id": "9abd912a",
   "metadata": {},
   "source": []
  },
  {
   "cell_type": "markdown",
   "id": "93db298a",
   "metadata": {},
   "source": []
  },
  {
   "cell_type": "markdown",
   "id": "7caedda8",
   "metadata": {},
   "source": []
  },
  {
   "cell_type": "markdown",
   "id": "445cb128",
   "metadata": {},
   "source": []
  },
  {
   "cell_type": "markdown",
   "id": "772acc36",
   "metadata": {},
   "source": []
  },
  {
   "cell_type": "markdown",
   "id": "486f34b8",
   "metadata": {},
   "source": []
  }
 ],
 "metadata": {
  "kernelspec": {
   "display_name": "tf",
   "language": "python",
   "name": "tf"
  },
  "language_info": {
   "codemirror_mode": {
    "name": "ipython",
    "version": 3
   },
   "file_extension": ".py",
   "mimetype": "text/x-python",
   "name": "python",
   "nbconvert_exporter": "python",
   "pygments_lexer": "ipython3",
   "version": "3.10.11"
  }
 },
 "nbformat": 4,
 "nbformat_minor": 5
}
