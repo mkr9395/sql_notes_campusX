{
 "cells": [
  {
   "cell_type": "markdown",
   "metadata": {
    "id": "O-kYKh3Z3HoZ"
   },
   "source": [
    "# Task for SQL DML session\n",
    "\n",
    "Load this dataset in your database and perform below given tasks.\n",
    "\n",
    "DataSet - https://docs.google.com/spreadsheets/d/e/2PACX-1vRa1wWwXmzxEvqITxj4OQTeLywlGTTsOTbhSRqKj2lPuGefjlci-DQhgLBPpgWXe8AAUu2WUBqY59X1/pub?gid=1030172542&single=true&output=csv\n",
    "\n",
    "Look for data description\n",
    "\n",
    "Kaggle - https://www.kaggle.com/datasets/thedevastator/insurance-claim-analysis-demographic-and-health?select=insurance_data.csv"
   ]
  },
  {
   "cell_type": "markdown",
   "metadata": {
    "id": "HgeiRIpI3MjR"
   },
   "source": [
    "## Perform the following queries"
   ]
  },
  {
   "cell_type": "markdown",
   "metadata": {
    "id": "HgeiRIpI3MjR"
   },
   "source": [
    "### 1. Show records of 'male' patient from 'southwest' region."
   ]
  },
  {
   "cell_type": "raw",
   "metadata": {},
   "source": [
    "SELECT * from insurance \n",
    "WHERE gender = 'male' AND region = 'southwest';"
   ]
  },
  {
   "cell_type": "markdown",
   "metadata": {
    "id": "HgeiRIpI3MjR"
   },
   "source": [
    "### 2. Show all records having bmi in range 30 to 45 both inclusive."
   ]
  },
  {
   "cell_type": "raw",
   "metadata": {},
   "source": [
    "SELECT * from insurance\n",
    "WHERE bmi >= 30 AND bmi <= 45;"
   ]
  },
  {
   "cell_type": "markdown",
   "metadata": {},
   "source": [
    "#### OR"
   ]
  },
  {
   "cell_type": "raw",
   "metadata": {},
   "source": [
    "SELECT * from insurance\n",
    "WHERE bmi between 30 AND 45;"
   ]
  },
  {
   "cell_type": "markdown",
   "metadata": {
    "id": "HgeiRIpI3MjR"
   },
   "source": [
    "### 3. Show minimum and maximum bloodpressure of diabetic patient who smokes. Make column names as MinBP and MaxBP respectively."
   ]
  },
  {
   "cell_type": "raw",
   "metadata": {},
   "source": [
    "SELECT MIN(bloodpressure) as MinBP, MAX(bloodpressure) as MaxBP\n",
    "FROM insurance\n",
    "WHERE diabetic = 'Yes' AND smoker = 'Yes';"
   ]
  },
  {
   "cell_type": "markdown",
   "metadata": {
    "id": "HgeiRIpI3MjR"
   },
   "source": [
    "### 4. Find no of unique patients who are not from southwest region."
   ]
  },
  {
   "cell_type": "raw",
   "metadata": {},
   "source": [
    "SELECT count(*) as unique_patients\n",
    "FROM insurance\n",
    "WHERE region!= 'southwest';"
   ]
  },
  {
   "cell_type": "markdown",
   "metadata": {
    "id": "HgeiRIpI3MjR"
   },
   "source": [
    "### 5. Total claim amount from male smoker."
   ]
  },
  {
   "cell_type": "raw",
   "metadata": {},
   "source": [
    "SELECT SUM(claim)\n",
    "FROM insurance\n",
    "where gender = 'male' AND smoker = 'Yes'"
   ]
  },
  {
   "cell_type": "markdown",
   "metadata": {
    "id": "HgeiRIpI3MjR"
   },
   "source": [
    "### 6. Select all records of south region."
   ]
  },
  {
   "cell_type": "raw",
   "metadata": {},
   "source": [
    "SELECT *\n",
    "FROM insurance\n",
    "WHERE region like 'south%';"
   ]
  },
  {
   "cell_type": "markdown",
   "metadata": {
    "id": "HgeiRIpI3MjR"
   },
   "source": [
    "### 7. No of patient having normal blood pressure. Normal range[90-120]"
   ]
  },
  {
   "cell_type": "raw",
   "metadata": {},
   "source": [
    "select COUNT(*)\n",
    "FROM insurance\n",
    "WHERE bloodpressure BETWEEN 90 AND 120;"
   ]
  },
  {
   "cell_type": "markdown",
   "metadata": {
    "id": "HgeiRIpI3MjR"
   },
   "source": [
    "### 8. No of pateint belo 17 years of age having normal blood pressure as per below formula -\n",
    "    - BP normal range = 80+(age in years × 2) to 100 + (age in years × 2)\n",
    "\n",
    "    - Note: Formula taken just for practice, don't take in real sense."
   ]
  },
  {
   "cell_type": "raw",
   "metadata": {},
   "source": [
    "SELECT COUNT(*) from insurance\n",
    "where AGE <17 AND bloodpressure BETWEEN (80 + (age * 2)) AND (100 + (age * 2)); "
   ]
  },
  {
   "cell_type": "markdown",
   "metadata": {
    "id": "HgeiRIpI3MjR"
   },
   "source": [
    "### 9. What is the average claim amount for non-smoking female patients who are diabetic?"
   ]
  },
  {
   "cell_type": "raw",
   "metadata": {},
   "source": [
    "SELECT AVG(claim)\n",
    "FROM insurance\n",
    "WHERE\n",
    "gender = 'female' AND smoker = 'Yes' AND diabetic = 'Yes';"
   ]
  },
  {
   "cell_type": "markdown",
   "metadata": {
    "id": "HgeiRIpI3MjR"
   },
   "source": [
    "### 10. Write a SQL query to update the claim amount for the patient with PatientID = 1234 to 5000."
   ]
  },
  {
   "cell_type": "raw",
   "metadata": {},
   "source": [
    "UPDATE insurance\n",
    "SET claim = 5000\n",
    "WHERE PatientID = '1234';"
   ]
  },
  {
   "cell_type": "markdown",
   "metadata": {
    "id": "HgeiRIpI3MjR"
   },
   "source": [
    "### 11. Write a SQL query to delete all records for patients who are smokers and have no children."
   ]
  },
  {
   "cell_type": "raw",
   "metadata": {
    "id": "56rYZ7bf3IJh"
   },
   "source": [
    "DELETE from insurance\n",
    "where smoker = 'Yes' AND children = 0;"
   ]
  },
  {
   "cell_type": "code",
   "execution_count": null,
   "metadata": {},
   "outputs": [],
   "source": []
  }
 ],
 "metadata": {
  "colab": {
   "provenance": []
  },
  "kernelspec": {
   "display_name": "Python 3 (ipykernel)",
   "language": "python",
   "name": "python3"
  },
  "language_info": {
   "codemirror_mode": {
    "name": "ipython",
    "version": 3
   },
   "file_extension": ".py",
   "mimetype": "text/x-python",
   "name": "python",
   "nbconvert_exporter": "python",
   "pygments_lexer": "ipython3",
   "version": "3.9.13"
  }
 },
 "nbformat": 4,
 "nbformat_minor": 1
}
